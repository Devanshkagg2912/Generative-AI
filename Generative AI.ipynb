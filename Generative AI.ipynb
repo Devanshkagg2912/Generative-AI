{
 "cells": [
  {
   "cell_type": "code",
   "execution_count": 6,
   "id": "5e8a1df3-15ae-4491-82d1-1c29916474fa",
   "metadata": {},
   "outputs": [
    {
     "name": "stderr",
     "output_type": "stream",
     "text": [
      "C:\\Users\\DELL\\AppData\\Local\\Programs\\Python\\Python312\\Lib\\site-packages\\sentence_transformers\\cross_encoder\\CrossEncoder.py:13: TqdmExperimentalWarning: Using `tqdm.autonotebook.tqdm` in notebook mode. Use `tqdm.tqdm` instead to force console mode (e.g. in jupyter console)\n",
      "  from tqdm.autonotebook import tqdm, trange\n"
     ]
    },
    {
     "ename": "ModuleNotFoundError",
     "evalue": "No module named 'chromadb'",
     "output_type": "error",
     "traceback": [
      "\u001b[1;31m---------------------------------------------------------------------------\u001b[0m",
      "\u001b[1;31mModuleNotFoundError\u001b[0m                       Traceback (most recent call last)",
      "Cell \u001b[1;32mIn[6], line 4\u001b[0m\n\u001b[0;32m      2\u001b[0m \u001b[38;5;28;01mfrom\u001b[39;00m \u001b[38;5;21;01mfastapi\u001b[39;00m\u001b[38;5;21;01m.\u001b[39;00m\u001b[38;5;21;01mresponses\u001b[39;00m \u001b[38;5;28;01mimport\u001b[39;00m JSONResponse\n\u001b[0;32m      3\u001b[0m \u001b[38;5;28;01mfrom\u001b[39;00m \u001b[38;5;21;01msentence_transformers\u001b[39;00m \u001b[38;5;28;01mimport\u001b[39;00m SentenceTransformer\n\u001b[1;32m----> 4\u001b[0m \u001b[38;5;28;01mfrom\u001b[39;00m \u001b[38;5;21;01mchromadb\u001b[39;00m \u001b[38;5;28;01mimport\u001b[39;00m Client\n\u001b[0;32m      5\u001b[0m \u001b[38;5;28;01mfrom\u001b[39;00m \u001b[38;5;21;01mchromadb\u001b[39;00m\u001b[38;5;21;01m.\u001b[39;00m\u001b[38;5;21;01mutils\u001b[39;00m \u001b[38;5;28;01mimport\u001b[39;00m Documents, Vectors\n\u001b[0;32m      6\u001b[0m \u001b[38;5;28;01mfrom\u001b[39;00m \u001b[38;5;21;01mtyping\u001b[39;00m \u001b[38;5;28;01mimport\u001b[39;00m List\n",
      "\u001b[1;31mModuleNotFoundError\u001b[0m: No module named 'chromadb'"
     ]
    }
   ],
   "source": [
    "from fastapi import FastAPI, UploadFile, File\n",
    "from fastapi.responses import JSONResponse\n",
    "from sentence_transformers import SentenceTransformer\n",
    "from chromadb import Client\n",
    "from chromadb.utils import Documents, Vectors\n",
    "from typing import List\n",
    "import asyncio\n"
   ]
  },
  {
   "cell_type": "code",
   "execution_count": null,
   "id": "b8a8bf05-0a15-4fb5-aed0-65e5ad0f50a5",
   "metadata": {},
   "outputs": [],
   "source": [
    "app = FastAPI()\n",
    "embedding_model = SentenceTransformer('sentence-transformers/all-MiniLM-L6-v2')\n",
    "chroma_client = Client(persist_directory=\"chromadb_data\")\n",
    "collection = chroma_client.get_or_create_collection(\"document_embeddings\")\n"
   ]
  },
  {
   "cell_type": "code",
   "execution_count": null,
   "id": "e0e22bd3-c2da-4b8c-a833-73faa4a2434a",
   "metadata": {},
   "outputs": [],
   "source": [
    "async def embed_text(text: str):\n",
    "    embedding = embedding_model.encode(text)\n",
    "    return embedding\n",
    "\n",
    "async def extract_text(file: UploadFile):\n",
    "    # Implementation for extracting text from PDF, DOC, DOCX, and TXT.\n",
    "    # Assume we return plain text from the uploaded file\n",
    "    return \"Extracted text content\"\n"
   ]
  },
  {
   "cell_type": "code",
   "execution_count": 3,
   "id": "5326ac04-6da1-48a1-aa7c-9e5bbfe42f19",
   "metadata": {},
   "outputs": [
    {
     "ename": "NameError",
     "evalue": "name 'app' is not defined",
     "output_type": "error",
     "traceback": [
      "\u001b[1;31m---------------------------------------------------------------------------\u001b[0m",
      "\u001b[1;31mNameError\u001b[0m                                 Traceback (most recent call last)",
      "Cell \u001b[1;32mIn[3], line 1\u001b[0m\n\u001b[1;32m----> 1\u001b[0m \u001b[38;5;129m@app\u001b[39m\u001b[38;5;241m.\u001b[39mpost(\u001b[38;5;124m\"\u001b[39m\u001b[38;5;124m/ingest\u001b[39m\u001b[38;5;124m\"\u001b[39m)\n\u001b[0;32m      2\u001b[0m \u001b[38;5;28;01masync\u001b[39;00m \u001b[38;5;28;01mdef\u001b[39;00m \u001b[38;5;21mingest_document\u001b[39m(file: UploadFile \u001b[38;5;241m=\u001b[39m File(\u001b[38;5;241m.\u001b[39m\u001b[38;5;241m.\u001b[39m\u001b[38;5;241m.\u001b[39m)):\n\u001b[0;32m      3\u001b[0m     \u001b[38;5;66;03m# Extract and embed text asynchronously\u001b[39;00m\n\u001b[0;32m      4\u001b[0m     text_content \u001b[38;5;241m=\u001b[39m \u001b[38;5;28;01mawait\u001b[39;00m extract_text(file)\n\u001b[0;32m      5\u001b[0m     embedding \u001b[38;5;241m=\u001b[39m \u001b[38;5;28;01mawait\u001b[39;00m embed_text(text_content)\n",
      "\u001b[1;31mNameError\u001b[0m: name 'app' is not defined"
     ]
    }
   ],
   "source": [
    "@app.post(\"/ingest\")\n",
    "async def ingest_document(file: UploadFile = File(...)):\n",
    "    # Extract and embed text asynchronously\n",
    "    text_content = await extract_text(file)\n",
    "    embedding = await embed_text(text_content)\n",
    "    \n",
    "    # Store document and embedding in ChromaDB\n",
    "    doc_id = f\"doc_{file.filename}\"\n",
    "    collection.add(documents=Documents([text_content]), vectors=Vectors([embedding]), ids=[doc_id])\n",
    "    return JSONResponse(content={\"message\": \"Document ingested successfully\", \"doc_id\": doc_id})\n",
    "\n",
    "@app.post(\"/query\")\n",
    "async def query_documents(query: str):\n",
    "    # Embed the query\n",
    "    query_embedding = await embed_text(query)\n",
    "    \n",
    "    # Perform the search\n",
    "    results = collection.query(query_embedding, top_k=5)  # Adjust top_k as needed\n",
    "    \n",
    "    return JSONResponse(content={\"results\": results})\n"
   ]
  },
  {
   "cell_type": "code",
   "execution_count": null,
   "id": "f758748d-6704-4c53-92ee-7582d564e4fa",
   "metadata": {},
   "outputs": [],
   "source": []
  }
 ],
 "metadata": {
  "kernelspec": {
   "display_name": "Python 3 (ipykernel)",
   "language": "python",
   "name": "python3"
  },
  "language_info": {
   "codemirror_mode": {
    "name": "ipython",
    "version": 3
   },
   "file_extension": ".py",
   "mimetype": "text/x-python",
   "name": "python",
   "nbconvert_exporter": "python",
   "pygments_lexer": "ipython3",
   "version": "3.12.1"
  }
 },
 "nbformat": 4,
 "nbformat_minor": 5
}
